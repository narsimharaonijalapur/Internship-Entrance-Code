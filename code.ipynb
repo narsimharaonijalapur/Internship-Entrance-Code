{
 "cells": [
  {
   "cell_type": "code",
   "execution_count": 276,
   "metadata": {},
   "outputs": [
    {
     "name": "stdout",
     "output_type": "stream",
     "text": [
      "C:\\Users\\user\\Downloads\n"
     ]
    }
   ],
   "source": [
    "#importing libraries needed\n",
    "import pandas as pd\n",
    "import numpy as np\n",
    "import PyPDF2\n",
    "import os\n",
    "import re\n",
    "import nltk\n",
    "from nltk import word_tokenize\n",
    "from nltk.tokenize import sent_tokenize,word_tokenize\n",
    "from nltk.corpus import stopwords\n",
    "from collections import Counter\n",
    "os.chdir(\"C:/Users/user/Downloads\")\n",
    "print(os.getcwd())"
   ]
  },
  {
   "cell_type": "code",
   "execution_count": 277,
   "metadata": {},
   "outputs": [
    {
     "data": {
      "text/plain": [
       "24767"
      ]
     },
     "execution_count": 277,
     "metadata": {},
     "output_type": "execute_result"
    }
   ],
   "source": [
    "#Reading PDF file given\n",
    "corpus=PyPDF2.PdfFileReader(\"JavaBasics-notes.pdf\")\n",
    "pages=corpus.getNumPages()\n",
    "text=\"\"\n",
    "for i in range(0,pages):\n",
    "    text=str(text)+corpus.getPage(i).extractText()\n",
    "len(text)"
   ]
  },
  {
   "cell_type": "code",
   "execution_count": 278,
   "metadata": {},
   "outputs": [
    {
     "data": {
      "text/plain": [
       "'Java Basics© 1996-2003 jGuru.com. All Rights Reserved.Java Basics -1Java BasicsTopics in this section include:! What makes Java programs portable, secure, and robust! The structure of Java applets and applications! How Java applications are executed! How applets are invoked and executed! The Java Language, Part I! Comments! Declarations! Expressions! Statements! Garbage collection! Java SemanticsPortabilityJava programs are portable across operating systems and hardware environments.Portability is to your advantage because:! You need only one version of your software to serve a broad market.! The Internet, in effect, becomes one giant, dynamic library.! You are no longer limited by your particular computer platform.Three features make Java String programs portable:1. The language. The Java language is completely specified; all data-type sizes andformats are defined as part of the language. By contrast, C/C++ leaves these\"details\" up to the compiler implementor, and many C/C++ programs thereforeJava BasicsJava Basics -2© 1996-2003 jGuru.com. All Rights Reserved.are not portable.2. The library. The Java class library is available on any machine with a Javaruntime system, because a portable program is of no use if you cannot use thesame class library on every platform. Window-manager function calls in a Macapplication written in C/C++, for example, do not port well to a PC.3. The byte code. The Java runtime system does not compile your source codedirectly into machine language, an inflexible and nonportable representation ofyour program. Instead, Java programs are translated into machine-independentbyte code. The byte code is easily interpreted and therefore can be executed onany platform having a Java runtime system. (The latest versions of the NetscapeNavigator browser, for example, can run applets on virtually any platform).SecurityThe Java language is secure in that it is very difficult to write incorrect code orviruses that can corrupt/steal your data, or harm har'"
      ]
     },
     "execution_count": 278,
     "metadata": {},
     "output_type": "execute_result"
    }
   ],
   "source": [
    "text[0:2000]"
   ]
  },
  {
   "cell_type": "code",
   "execution_count": 279,
   "metadata": {
    "collapsed": true
   },
   "outputs": [],
   "source": [
    "#Data Cleaning\n",
    "new_text=re.sub(r'Java Basics',' ',text)\n",
    "new_text=re.sub(r'JavaBasics',' ',new_text)\n",
    "new_text=re.sub(r'1996-2003 jGuru.com. All Rights Reserved.',' ',new_text)\n",
    "new_text=re.sub(r\"['-()\\\"#/@;:<>${}`+=~|.!?,*%&^_]\", \" \", new_text)\n",
    "new_text=re.sub(r'\\\\',' ',new_text)\n",
    "new_text=re.sub(r'\\[',' ',new_text)\n",
    "new_text=re.sub(r'\\]',' ',new_text)\n",
    "new_text=re.sub(r'©',' ',new_text)\n",
    "new_text=re.sub(r'[0-9]',' ',new_text)\n",
    "new_text=re.sub(r' I ',' ',new_text)\n",
    "new_text=re.sub(r' II ',' ',new_text)\n",
    "new_text=re.sub(r' III ',' ',new_text)\n",
    "new_text=re.sub(r' IV ',' ',new_text)\n",
    "new_text=re.sub(r'\\-',' ',new_text)\n",
    "new_text=re.sub('([A-Z])', r' \\1', new_text)\n",
    "new_text=re.sub(r'[A-Z] ',' ',new_text)\n",
    "new_text=re.sub(r' [a-z] ',' ',new_text)"
   ]
  },
  {
   "cell_type": "code",
   "execution_count": 280,
   "metadata": {},
   "outputs": [
    {
     "name": "stdout",
     "output_type": "stream",
     "text": [
      "          Topics in this section include    What makes  Java programs portable  secure  and robust   The structure of  Java applets and applications   How  Java applications are executed   How applets are invoked and executed   The  Java  Language   Part   Comments   Declarations   Expressions   Statements   Garbage collection   Java  Semantics Portability Java programs are portable across operating systems and hardware environments  Portability is to your advantage because    You need only one version of your software to serve broad market    The  Internet  in effect  becomes one giant  dynamic library    You are no longer limited by your particular computer platform  Three features make  Java  String programs portable     The language   The  Java language is completely specified  all data type sizes andformats are defined as part of the language   By contrast        leaves these details  up to the compiler implementor  and many       programs therefore        are not portable     The library   The  Java class library is available on any machine with  Javaruntime system  because portable program is of no use if you cannot use thesame class library on every platform   Window manager function calls in  Macapplication written in        for example  do not port well to        The byte code   The  Java runtime system does not compile your source codedirectly into machine language  an inflexible and nonportable representation ofyour program   Instead   Java programs are translated into machine independentbyte code   The byte code is easily interpreted and therefore can be executed onany platform having  Java runtime system    The latest versions of the  Netscape Navigator browser  for example  can run applets on virtually any platform   Security The  Java language is secure in that it is very difficult to write incorrect code orviruses that can corrupt steal your data  or harm hardware such as hard disks  There are two main lines of defense    Interpreter level    No pointer arithmetic   Garbage collection   Array bounds checking   No illegal data conversions   Browser level  applies to applets only     No local file     Sockets back to host only   No calls to native methods Robustness The  Java language is robust   It has several features designed to avoid crashesduring program execution  including    No pointer arithmetic           Garbage collection  no bad addresses   Array and string bounds checking   No jumping to bad method addresses   Interfaces and exceptions Java  Program  Structure  file containing  Java source code is considered compilation unit   Such acompilation unit contains set of classes and  optionally  package definition togroup related classes together   Classes contain data and method members thatspecify the state and behavior of the objects in your program  Java programs come in two flavors    Standalone applications that have no initial context such as pre existing mainwindow   Applets for     programming The major differences between applications and applets are    Applets are not allowed to use file   and sockets  other than to the hostplatform    Applications do not have these restrictions    An applet must be subclass of the  Java  Applet class   Aplications do not need tosubclass any particular class    Unlike applets  applications can have menus    Unlike applications  applets need to respond to predefined lifecycle messagesfrom the     browser in which they re running  Java  Program  Execution The  Java byte code compiler translates  Java source file into machine independent byte code   The byte code for each publicly visible class is placed in aseparate file  so that the  Java runtime system can easily find it   If your programinstantiates an object of class    for example  the class loader searches thedirectories listed in your           environment variable for file called   classthat contains the class definition and byte code for class    There is no link phase for  Java programs  all linking is done dynamically at        runtime  The following diagram shows an example of the  Java compilation and executionsequence for source file named   java containing public class   and non publicclass    Java programs are  in effect  distributed applications   You may think of them as acollection of    Ls  dynamically loadable libraries  that are linked on demand atruntime   When you write your own  Java applications  you will often integrateyour program with already existing portions of code that reside on othermachines    Simple  Application Consider the following trivial application that prints  hi there  to standardoutput         public class  Trivial Application       args    is first argument     args    the second  public static void main  String args          System out println  hi there        The command java  Trivial Application tells the  Java runtime system to beginwith the class file  Trivial Application class and to look in that file for amethod with the signature public static void main  String args     The main   method will always reside in one of your class files   The  Javalanguage does not allow methods outside of class definitions   The class  in effect creates scoped symbol  Starting Class Name main for your main   method  Applet  Execution An applet is  Java program that runs within  Java compatible     browser orin an appletviewer   To execute your applet  the browser    Creates an instance of your applet   Sends messages to your applet to automatically invoke predefined lifecyclemethods The predefined methods automatically invoked by the runtime system are   init     This method takes the place of the  Applet constructor and is only calledonce during applet creation   Instance variables should be initialized in this method     components such as buttons and scrollbars should be added to the     inthis method   start     This method is called once after init   and whenever your applet isrevisited by your browser  or when you deiconify your browser   This methodshould be used to start animations and other threads   paint  Graphics    This method is called when the applet drawing area needsto be redrawn   Anything not drawn by contained components must be drawn inthis method   Bitmaps  for example  are drawn here  but buttons are not becausethey handle their own painting   stop     This method is called when you leave an applet or when you iconifyyour browser   The method should be used to suspend animations and other        threads so they do not burden system resources unnecessarily   It is guaranteed tobe called before destroy     destroy     This method is called when an applet terminates  for example  whenquitting the browser   Final clean up operations such as freeing up systemresources with dispose   should be done here   The dispose   method of  Frameremoves the menu bar   Therefore  do not forget to call super dispose   if youoverride the default behavior  The basic structure of an applet that uses each of these predefined methods is import java applet  Applet    include all     class definitionsimport java awt   public class  Applet Template extends  Applet    public void init           create      initialize applet     public void start           start threads  animations etc        public void paint  Graphics          draw things in     public void stop           suspend threads  stop animations etc        public void destroy           free up system resources  stop threads     All you have to do is fill in the appropriate methods to bring your applet to life   Ifyou don need to use one or more of these predefined methods  simply leave themout of your applet   The applet will ignore messages from the browser attemptingto invoke any of these methods that you don use    Simple  Applet The following complete applet displays   Hello   World  Wide  Web   in yourbrowser window import java applet  Applet import java awt  Graphics public class  Trivial Applet extends  Applet    public void paint  Graphics          display string at                     where     is the upper left corner    draw String   Hello   World  Wide  Web                 An appletviewer may be used instead of     browser to test applets   Forexample  the output of  Trivial Applet on an appletviewer looks like       Applet  Interface The      applet tag is similar to the      img tag  and has the form  applet code  Applet Name class width height  parameters   applet where the optional parameters are list of parameter definitions of the form  param name value  An example tag with parameter definitions is  applet code  Applet Name class width     height      param name  value     param name  value  test    applet where  and  are user defined parameters  The code  width  and height parameters are mandatory   The parameterscodebase  alt  archives  align  vspace  and hspace are optional within the applet  tag itself   Your applet can access any of these parameters by calling  Applet get Parameter   which returns the  String value of the parameter   For example  the applet import java applet  Applet public class  Param Test extends  Applet    public void init         System out println  width is     get Parameter  width         System out println   is        get Parameter                   System out println   is        get Parameter          prints the following to standard output width is     is    is test Comments Java comments are the same as     comments  e       style block comments   where all text between the opening    and closing    is ignored  and       style single line commentswhere all text from the opening    to the end of the line is ignored  Note that these two comments can make very useful combination    stylecomments             cannot be nested  but can contain     style comments  This leads to the interesting observation that if you always use     stylecomments           you can easily comment out section of code by surroundingit with   style comments   So try to use     style comments for your  normal code commentary  and reserve   style comments for commenting out sections ofcode  The  Java language also has document comment     document comment    These comments are processed by the javadoc program to generatedocumentation from your source code   For example      This class does blah blah blah   class  Blah         This method does nothing           This is multiple line comment       The leading   is not placed in documentation        public void nothing                Declarations   Java variable may refer to an object  an array  or an item of primitive type  Variables are defined using the following simple syntax  Type Name variable Name  For example int         defines an integerint         defines reference to array of ints Vector      reference to  Vector object Primitive  Types The  Java language has the following primitive types  Primitive  Types Primitive  Type Descriptionbooleantrue falsebyte  bitschar   bits          short   bitsint   bitslong   bitsfloat   bits              double   bits               Java int types may not be used as boolean types and are always signed  Objects  simple     object or   struct definition such as   Button   allocatesmemory on the stack for  Button object and makes refer to it   By contrast  youmust specifically instantiate  Java objects with the new operator   For example              Java codevoid foo         define reference to  Button  init to null   Button      allocate space for  Button  points to it    new  Button         int       As the accompanying figure shows  this code places reference to the  Buttonobject on the stack and allocates memory for the new object on the heap  The equivalent     and   statements that would allocate memory on the heapwould be        code Button                  declare new  Button pointerb   new  Button            point it to new  Button     code    Button                          declare new  Button pointer     calloc    sizeof  Button       allocate space for  Button   init                            something like this to init    All  Java objects reside on the heap  there are no objects stored on the stack  Storing objects on the heap does not cause potential memory leakage problemsbecause of garbage collection  Each  Java primitive type has an equivalent object type  g    Integer   Byte  Float   Double   These primitive types are provided in addition to object typespurely for efficiency   An int is much more efficient than an  Integer           Strings Java string literals look the same as those in        but  Java strings are realobjects  not pointers to memory   Java strings may or may not be null terminated  Every string literal such as string literal is interpreted by the  Java compiler asnew  String  string literal   Java strings are constant in length and content   For variable length strings  use String Buffer objects  Strings may be concatenated by using the plus operator  String    one     two          onetwo  You may concatenate any object to string   You use the to String   method toconvert objects to  String  and primitive types are converted by the compiler  For example  String                             The length of string may be obtained with  String method length    g   abc  length   has the value    To convert an int to  String  use  String    String value Of     To convert  String to an int  use int    Integer parse Int       Array  Objects In   and      arrays are pointers to data in memory   Java arrays are objects thatknow the number and type of their elements   The first element is index    as in       Generic  Array  Object  elements         element typeelement  element     element   The syntax for creating an array object is  Type Name   variable Name  This declaration defines the array object  it does not allocate memory for the arrayobject nor does it allocate the elements of the array  In addition  you may notspecify size within the square brackets  To allocate an array  use the new operator int     new int          Java code  make array of   intsnew int    int      In   or      by contrast  you would write either         code  make array of   ints on the stack   int    or         code  make array of   ints on the heap            int    new int     An array of  Java objects such as    Java code  make array of   references to  Buttons Button     new  Button    creates the array object itself  but not the elements new  Button     Buttonnull pointernull pointernull pointernull pointernull pointer You must use the new operator to create the elements      new  Button            new  Button          In      to make an array of pointers to objects you would write         make an array of   pointers to  Buttons Button     new  Button           Create the arraya      new  Button                create two new buttonsa      new  Button          In    code for the same task would look like       make an array of   pointers to structs       Allocate the array    Button     calloc    sizeof  Button         Allocate one button        calloc    sizeof  Button       Init the first button   set Title               Allocate another button        calloc    sizeof  Button       Init the second button            set Title              Multi dimensional  Java arrays are created by making arrays of arrays  just as in        For example         new          makes five element array of ten arrays of references to objects of type     Thisstatement does not allocate memory for any   objects  Accessing an undefined array element causes runtime exception called Array Index Out Of Bounds Exception  Accessing defined array element that has not yet been assigned to an objectresults in runtime  Null Pointer Exception  Initializers Variables may be initialized as follows    Primitive typesint     boolean   true    Objects Button   null  Employee   new  Employee      Arraysint                  or in  Java    int   i   new int                 Constants Variables modified by the static final keywords are constants  equivalent tothe const keyword in      no equivalent in      For example    same as  const int version     in    static final int version     static final  String  Owner     Terence            Expressions Most  Java expressions are similar to those in        Constant  Expressions Item Examples or  Descriptionidi  name Listqualified id Integer            obj member npackage class  package objid      a         String literal  Jim   delimited by   char literal       delimited by    Unicode character constant  aeboolean literaltrue  false  not an int int constant float constant           or   suffixdouble constant             default    or   suffixhexadecimal constant   octal constant   nullthe null object  note lowercase  thisthe current objectsuperthe superclass view of this object General  Expressions Item Examples or  Description         idi  name Listobj method args instance method callclass method args class method call  expr         new   constructor args instantiates new object or class  Tnew        allocates an array object Operators The  Java language has added the     zero extend right shift operator to the set of    operators       operators include instanceof and new  which are notpresent in     Note that sizeof has been removed  as memory allocation ishandled for you    The operators  in order of highest to lowest priority  are   new                     Type Name                                    instanceof                                                                     Note that the precedence of the new operator and the     operator bind         differently than in        proper  Java statement is     Java codenew     method    In      you would use        code new     method    Statements Java statements are similar to those in       as the following table shows  Forms of  Common  Statements Statement Examplesifif  boolean expr  stat if  boolean expr  stat  else stat switchswitch  int expr   case int const expr   stat case int const expr   stat default   stat  forfor  int           statwhilewhile  boolean expr  statdo whiledo   stats   while  boolean expr returnreturn expr  The  Java break and continue statements may have labels   These labels refer tothe specific loop that the break or continue apply to    Each loop can bepreceded by label   Java  Semantics We say that the  Java language has  reference semantics  and       have  copysemantics    This means that  Java objects are passed to methods by reference in Java  while objects are passed by value in        Java primitive types  however  are not treated in the same way as  Java objects  Primitive types are assigned  compared  and passed as arguments using copy         semantics  just as in         For example    for two int variables and jperforms    bit integer copy  Assignment of  Objects Assignment makes two variables refer to the same object   For example class  Data    public int data       public  Data int    data             Data   new  Data        data is         Data   new  Data        data is                            data and data are      data                   data and data are         new  Data             data is    data is   To copy objects  define and use clone   class  Data implements  Cloneable    public int data       public  Data int    data       public  Object clone         Data     Data  super clone       data   data     return         Data   new  Data        data is   Data   new  Data        data is    clone              data and data are  data                   data is    data is            Note   The above class definition requires exception handling code   We  however have not yet discussed exception handling   For now  pretend that it is notnecessary  Method  Parameters and  Return  Values Arguments and return values for primitive types are passed by value to and fromall  Java methods because they are implied assignments  as in         However  all Java objects are passed by reference   For example  the       code        codeint foo int    return        Button  bfoo  Button      if             return   else return new  Button    or  in       code   int foo int    return        Button  bfoo  Button      if             return   else return calloc sizeof  Button    would be written in the  Java language     Java codeint foo int    return        Button bfoo  Button     if      null   return   else return new  Button         Equality Two  Java primitive types are equal  using the    operator  when they have thesame value  g               However  two object variables are equal if and only ifthey refer to the same instantiated object   shallow  comparison   For example void test       Data   new  Data       Data   new  Data       Data   new  Data            is              is        in      this be                  Data      Data           is           e are referring to same object  To perform  deep  comparison  the convention is to define method calledequals     You would rewrite  Data as class  Data    public int data       public  Data int    data       boolean equals  Data       return data    data         Data   new  Data     Data   new  Data       equals  is true     No  Pointers  The  Java language does not have pointer types nor address arithmetic   Javavariables are either primitive types or references to objects   To illustrate thedifference between       and  Java semantics  consider the following equivalentcode fragments        code    code would be similar  Stack    new  Stack     point to new  Stacks  push         dereference and access method push   The equivalent  Java code is     Java code   internally  consider to be   Stack    Stack   new  Stack      dereference automaticallys push       Garbage  Collection An automatic garbage collector deallocates memory for objects that are no longerneeded by your program  thereby relieving you from the tedious and error prone         task of deallocating your own memory  As consequence of automatic garbage collection and lack of pointers   Javaobject is either null or valid  there is no way to refer to an invalid or stale object one that has been deallocated   To illustrate the effect of garbage collector  consider the following     functionthat allocates      objects on the heap via the new operator  similar   functionwould allocate memory using calloc malloc         codevoid           for  int                         new       ack          Every time the loop body is executed  new instance of class   is instantiated  andt is pointed to it   But what happens to the instance that used to point to   It sstill allocated  but nothing points to it and therefore it inaccessible   Memory inthis state is referred to as  leaked  memory  In the  Java language  memory leaks are not an issue   The following  Java methodcauses no ill effects     Java codevoid          for  int                         new          In  Java  each time is assigned new reference  the old reference is now availablefor garbage collection   Note that it isn immediately freed  it remains allocateduntil the garbage collector thread is next executed and notices that it can be freed  Put simply  automatic garbage collection reduces programming effort programming errors  and program complexity              Version    Id    depot main src edu modules   java Basics mml                        This page intentionally left blank\n"
     ]
    }
   ],
   "source": [
    "print(new_text)"
   ]
  },
  {
   "cell_type": "code",
   "execution_count": 281,
   "metadata": {
    "collapsed": true
   },
   "outputs": [],
   "source": [
    "tokens=word_tokenize(new_text)\n",
    "lower_tokens = [] #empty list\n",
    "for token in tokens:\n",
    "    lower_tokens.append(token.lower())\n",
    "stop = stopwords.words('english')\n",
    "tokens=[token for token in lower_tokens if token not in stop]\n",
    "lmtzr = nltk.stem.WordNetLemmatizer()\n",
    "tokensLmtz = [lmtzr.lemmatize(token) for token in tokens]"
   ]
  },
  {
   "cell_type": "code",
   "execution_count": 282,
   "metadata": {},
   "outputs": [
    {
     "name": "stdout",
     "output_type": "stream",
     "text": [
      "2169\n",
      "2169\n"
     ]
    }
   ],
   "source": [
    "print(len(tokens))\n",
    "print(len(tokensLmtz))"
   ]
  },
  {
   "cell_type": "code",
   "execution_count": 284,
   "metadata": {},
   "outputs": [
    {
     "name": "stdout",
     "output_type": "stream",
     "text": [
      "[('java', 82), ('data', 62), ('applet', 54), ('new', 48), ('object', 47), ('button', 45), ('int', 38), ('class', 36), ('method', 35), ('string', 32), ('code', 32), ('array', 31), ('type', 23), ('public', 22), ('example', 20), ('program', 19), ('comment', 15), ('use', 15), ('application', 14), ('language', 14), ('return', 14), ('primitive', 14), ('memory', 14), ('make', 13), ('system', 13), ('pointer', 13), ('name', 13), ('parameter', 13), ('operator', 13), ('variable', 12)]\n"
     ]
    }
   ],
   "source": [
    "#keywords are those which are used most commonly in a given document\n",
    "#Below is the code for getting top 30 keywords\n",
    "keywords=Counter(tokensLmtz).most_common(30)\n",
    "print(keywords)"
   ]
  },
  {
   "cell_type": "code",
   "execution_count": 285,
   "metadata": {
    "collapsed": true
   },
   "outputs": [],
   "source": [
    "#Creating a dataframe of keywords to find weightages and writing it into csv\n",
    "data=pd.DataFrame(Counter(tokensLmtz).most_common())"
   ]
  },
  {
   "cell_type": "code",
   "execution_count": 286,
   "metadata": {
    "collapsed": true
   },
   "outputs": [],
   "source": [
    "data[\"Weight\"]=data[1]/sum(data[1])\n",
    "data1=data.head(30)\n",
    "data1.columns=['Keyword','Count','Weight']\n",
    "data1.to_csv(\"weightages.csv\",index=False)"
   ]
  }
 ],
 "metadata": {
  "kernelspec": {
   "display_name": "Python 3",
   "language": "python",
   "name": "python3"
  },
  "language_info": {
   "codemirror_mode": {
    "name": "ipython",
    "version": 3
   },
   "file_extension": ".py",
   "mimetype": "text/x-python",
   "name": "python",
   "nbconvert_exporter": "python",
   "pygments_lexer": "ipython3",
   "version": "3.6.3"
  }
 },
 "nbformat": 4,
 "nbformat_minor": 2
}
